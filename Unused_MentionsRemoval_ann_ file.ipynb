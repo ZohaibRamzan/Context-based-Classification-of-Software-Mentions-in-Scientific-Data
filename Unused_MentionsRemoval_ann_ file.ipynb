{
 "cells": [
  {
   "cell_type": "code",
   "execution_count": 1,
   "metadata": {},
   "outputs": [],
   "source": [
    "import os\n",
    "from nltk import tokenize\n",
    "import re"
   ]
  },
  {
   "cell_type": "markdown",
   "metadata": {},
   "source": [
    "## Remove unused Annotation from .ann file e.g 'Software_suggestion'"
   ]
  },
  {
   "cell_type": "code",
   "execution_count": 2,
   "metadata": {},
   "outputs": [],
   "source": [
    "all_annotation_files=[]\n",
    "for f in os.listdir('softwarecreations/'):\n",
    "    if f.endswith('.ann'):\n",
    "        all_annotation_files.append(f)\n",
    "\n",
    "for f in all_annotation_files:\n",
    "    with open('softwarecreations/' + f, 'r') as annotation_file:\n",
    "        lines = annotation_file.readlines()\n",
    "        annotation_file.close()\n",
    "        \n",
    "    with open('softwarecreations/' + f, 'w') as annotation_file_write:\n",
    "        for line in lines:\n",
    "            if 'software_suggestion'  not in line:\n",
    "                annotation_file_write.write(line)\n",
    "    \n",
    "    annotation_file_write.close()\n",
    "                \n",
    "\n",
    "        \n",
    "        \n",
    "        "
   ]
  },
  {
   "cell_type": "code",
   "execution_count": null,
   "metadata": {},
   "outputs": [],
   "source": []
  }
 ],
 "metadata": {
  "kernelspec": {
   "display_name": "Python 3",
   "language": "python",
   "name": "python3"
  },
  "language_info": {
   "codemirror_mode": {
    "name": "ipython",
    "version": 3
   },
   "file_extension": ".py",
   "mimetype": "text/x-python",
   "name": "python",
   "nbconvert_exporter": "python",
   "pygments_lexer": "ipython3",
   "version": "3.7.6"
  }
 },
 "nbformat": 4,
 "nbformat_minor": 4
}
